{
 "cells": [
  {
   "cell_type": "code",
   "execution_count": 1,
   "metadata": {},
   "outputs": [],
   "source": [
    "import re\n",
    "import pandas as pd\n",
    "import numpy as np\n",
    "import json\n",
    "import os\n",
    "import utils"
   ]
  },
  {
   "cell_type": "code",
   "execution_count": 2,
   "metadata": {},
   "outputs": [
    {
     "name": "stdout",
     "output_type": "stream",
     "text": [
      "User <admin> is koskesh\n"
     ]
    }
   ],
   "source": [
    "utils.check_concurrent()"
   ]
  },
  {
   "cell_type": "code",
   "execution_count": 4,
   "metadata": {},
   "outputs": [
    {
     "name": "stdout",
     "output_type": "stream",
     "text": [
      "User Already Exists! No changes Made\n"
     ]
    }
   ],
   "source": [
    "utils.new_user('admin2', 'ttuuid', 0, 1, 2, 10)"
   ]
  },
  {
   "cell_type": "code",
   "execution_count": 5,
   "metadata": {},
   "outputs": [
    {
     "ename": "KeyError",
     "evalue": "'admin'",
     "output_type": "error",
     "traceback": [
      "\u001b[0;31m---------------------------------------------------------------------------\u001b[0m",
      "\u001b[0;31mKeyError\u001b[0m                                  Traceback (most recent call last)",
      "\u001b[1;32m/home/indirected/Desktop/vmess_mon/test.ipynb Cell 4\u001b[0m in \u001b[0;36m<cell line: 1>\u001b[0;34m()\u001b[0m\n\u001b[0;32m----> <a href='vscode-notebook-cell:/home/indirected/Desktop/vmess_mon/test.ipynb#X34sZmlsZQ%3D%3D?line=0'>1</a>\u001b[0m utils\u001b[39m.\u001b[39;49munban_user(\u001b[39m'\u001b[39;49m\u001b[39madmin\u001b[39;49m\u001b[39m'\u001b[39;49m)\n",
      "File \u001b[0;32m~/Desktop/vmess_mon/utils.py:117\u001b[0m, in \u001b[0;36munban_user\u001b[0;34m(username)\u001b[0m\n\u001b[1;32m    116\u001b[0m \u001b[39mdef\u001b[39;00m \u001b[39munban_user\u001b[39m(username: \u001b[39mstr\u001b[39m):\n\u001b[0;32m--> 117\u001b[0m     cli_dict \u001b[39m=\u001b[39m banned_users_dict[username]\n\u001b[1;32m    118\u001b[0m     banned_users_dict\u001b[39m.\u001b[39mpop(username)\n\u001b[1;32m    119\u001b[0m     update_json_config(banned_users_dict, CONFIG\u001b[39m.\u001b[39mtemp_ban_users_file)\n",
      "\u001b[0;31mKeyError\u001b[0m: 'admin'"
     ]
    }
   ],
   "source": [
    "utils.unban_user('admin')"
   ]
  },
  {
   "cell_type": "code",
   "execution_count": 4,
   "metadata": {},
   "outputs": [
    {
     "data": {
      "text/plain": [
       "'2022-10-22 23:20:02.157841'"
      ]
     },
     "execution_count": 4,
     "metadata": {},
     "output_type": "execute_result"
    }
   ],
   "source": [
    "utils.user_db.loc['admin', 'last_banned']"
   ]
  },
  {
   "cell_type": "code",
   "execution_count": 9,
   "metadata": {},
   "outputs": [
    {
     "data": {
      "text/plain": [
       "username\n",
       "admin2                           NaN\n",
       "admin     2022-10-22 23:20:02.157841\n",
       "Name: last_banned, dtype: object"
      ]
     },
     "execution_count": 9,
     "metadata": {},
     "output_type": "execute_result"
    }
   ],
   "source": [
    "utils.user_db['last_banned']"
   ]
  },
  {
   "cell_type": "code",
   "execution_count": 2,
   "metadata": {},
   "outputs": [
    {
     "name": "stdout",
     "output_type": "stream",
     "text": [
      "User <admin> Unbanned by time\n"
     ]
    }
   ],
   "source": [
    "utils.check_for_unban()"
   ]
  },
  {
   "cell_type": "code",
   "execution_count": 5,
   "metadata": {},
   "outputs": [],
   "source": [
    "import datetime"
   ]
  },
  {
   "cell_type": "code",
   "execution_count": 12,
   "metadata": {},
   "outputs": [
    {
     "data": {
      "text/plain": [
       "datetime.datetime(2022, 10, 22, 23, 20, 2, 157841)"
      ]
     },
     "execution_count": 12,
     "metadata": {},
     "output_type": "execute_result"
    }
   ],
   "source": [
    "datetime.datetime.strptime('2022-10-22 23:20:02.157841', '%Y-%m-%d %H:%M:%S.%f')"
   ]
  },
  {
   "cell_type": "code",
   "execution_count": 13,
   "metadata": {},
   "outputs": [],
   "source": [
    "import subprocess\n",
    "a = subprocess.run(['ls', '-la'], capture_output=True, text=True)"
   ]
  },
  {
   "cell_type": "code",
   "execution_count": 16,
   "metadata": {},
   "outputs": [
    {
     "data": {
      "text/plain": [
       "['total 56',\n",
       " 'drwxrwxr-x  4 indirected indirected  4096 Oct 22 23:00 .',\n",
       " 'drwxr-xr-x 10 indirected indirected  4096 Oct 22 17:32 ..',\n",
       " '-rw-rw-r--  1 indirected indirected     2 Oct 22 23:58 banned.json',\n",
       " '-rw-r--r--  1 indirected indirected  2195 Oct 22 23:58 config.json',\n",
       " '-rw-rw-r--  1 indirected indirected   520 Oct 22 23:38 CONFIG.py',\n",
       " '-rw-rw-r--  1 indirected indirected 11846 Oct 22 22:08 logs.txt',\n",
       " '-rw-rw-r--  1 indirected indirected     0 Oct 22 21:24 mon.py',\n",
       " 'drwxrwxr-x  2 indirected indirected  4096 Oct 22 23:58 __pycache__',\n",
       " '-rw-rw-r--  1 indirected indirected   828 Oct 22 21:24 test.ipynb',\n",
       " '-rw-rw-r--  1 indirected indirected   121 Oct 23 00:09 users.csv',\n",
       " '-rw-rw-r--  1 indirected indirected  4703 Oct 23 00:02 utils.py',\n",
       " 'drwxrwxr-x  2 indirected indirected  4096 Oct 22 22:00 .vscode',\n",
       " '']"
      ]
     },
     "execution_count": 16,
     "metadata": {},
     "output_type": "execute_result"
    }
   ],
   "source": [
    "a.stdout.split('\\n')"
   ]
  },
  {
   "cell_type": "code",
   "execution_count": 7,
   "metadata": {},
   "outputs": [],
   "source": [
    "a = datetime.datetime.now()"
   ]
  },
  {
   "cell_type": "code",
   "execution_count": 8,
   "metadata": {},
   "outputs": [
    {
     "data": {
      "text/plain": [
       "datetime.datetime(2022, 10, 22, 23, 24, 38, 163248)"
      ]
     },
     "execution_count": 8,
     "metadata": {},
     "output_type": "execute_result"
    }
   ],
   "source": [
    "a "
   ]
  },
  {
   "cell_type": "code",
   "execution_count": 11,
   "metadata": {},
   "outputs": [
    {
     "data": {
      "text/plain": [
       "datetime.datetime(2022, 10, 22, 23, 39, 38, 163248)"
      ]
     },
     "execution_count": 11,
     "metadata": {},
     "output_type": "execute_result"
    }
   ],
   "source": [
    "a + datetime.timedelta(minutes=15)"
   ]
  },
  {
   "cell_type": "code",
   "execution_count": 14,
   "metadata": {},
   "outputs": [
    {
     "data": {
      "text/plain": [
       "b'2U\\xdd&;\\x90M\\xc7\\xbd\\xb6i\\x91\\xd8#\\x02>'"
      ]
     },
     "execution_count": 14,
     "metadata": {},
     "output_type": "execute_result"
    }
   ],
   "source": [
    "import uuid\n",
    "uuid.uuid4()."
   ]
  },
  {
   "cell_type": "code",
   "execution_count": 11,
   "metadata": {},
   "outputs": [],
   "source": [
    "b = datetime.datetime.now()"
   ]
  },
  {
   "cell_type": "code",
   "execution_count": 13,
   "metadata": {},
   "outputs": [],
   "source": [
    "aaa = pd.DataFrame(data={'dd': [a, b]})"
   ]
  },
  {
   "cell_type": "code",
   "execution_count": 18,
   "metadata": {},
   "outputs": [
    {
     "data": {
      "text/plain": [
       "True"
      ]
     },
     "execution_count": 18,
     "metadata": {},
     "output_type": "execute_result"
    }
   ],
   "source": [
    "aaa.loc[0, 'dd'] < aaa.loc[1, 'dd']"
   ]
  }
 ],
 "metadata": {
  "kernelspec": {
   "display_name": "Python 3.10.6 64-bit",
   "language": "python",
   "name": "python3"
  },
  "language_info": {
   "codemirror_mode": {
    "name": "ipython",
    "version": 3
   },
   "file_extension": ".py",
   "mimetype": "text/x-python",
   "name": "python",
   "nbconvert_exporter": "python",
   "pygments_lexer": "ipython3",
   "version": "3.10.6"
  },
  "orig_nbformat": 4,
  "vscode": {
   "interpreter": {
    "hash": "31f2aee4e71d21fbe5cf8b01ff0e069b9275f58929596ceb00d14d90e3e16cd6"
   }
  }
 },
 "nbformat": 4,
 "nbformat_minor": 2
}
